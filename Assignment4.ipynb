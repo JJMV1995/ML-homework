{
 "cells": [
  {
   "cell_type": "code",
   "execution_count": 1,
   "id": "7a7177af-1c85-425e-8244-1a1cff42a78d",
   "metadata": {},
   "outputs": [
    {
     "name": "stdout",
     "output_type": "stream",
     "text": [
      "   id               Name  Age  \\\n",
      "0   0  Cristiano Ronaldo   32   \n",
      "1   1           L. Messi   30   \n",
      "2   2             Neymar   25   \n",
      "3   3          L. Suárez   30   \n",
      "4   4           M. Neuer   31   \n",
      "\n",
      "                                             Photo Nationality  \\\n",
      "0   https://cdn.sofifa.org/48/18/players/20801.png    Portugal   \n",
      "1  https://cdn.sofifa.org/48/18/players/158023.png   Argentina   \n",
      "2  https://cdn.sofifa.org/48/18/players/190871.png      Brazil   \n",
      "3  https://cdn.sofifa.org/48/18/players/176580.png     Uruguay   \n",
      "4  https://cdn.sofifa.org/48/18/players/167495.png     Germany   \n",
      "\n",
      "                                  Flag  Overall  Potential  \\\n",
      "0  https://cdn.sofifa.org/flags/38.png       94         94   \n",
      "1  https://cdn.sofifa.org/flags/52.png       93         93   \n",
      "2  https://cdn.sofifa.org/flags/54.png       92         94   \n",
      "3  https://cdn.sofifa.org/flags/60.png       92         92   \n",
      "4  https://cdn.sofifa.org/flags/21.png       92         92   \n",
      "\n",
      "                  Club                                   Club Logo  ...    RB  \\\n",
      "0       Real Madrid CF  https://cdn.sofifa.org/24/18/teams/243.png  ...  61.0   \n",
      "1         FC Barcelona  https://cdn.sofifa.org/24/18/teams/241.png  ...  57.0   \n",
      "2  Paris Saint-Germain   https://cdn.sofifa.org/24/18/teams/73.png  ...  59.0   \n",
      "3         FC Barcelona  https://cdn.sofifa.org/24/18/teams/241.png  ...  64.0   \n",
      "4     FC Bayern Munich   https://cdn.sofifa.org/24/18/teams/21.png  ...   0.0   \n",
      "\n",
      "    RCB   RCM   RDM    RF    RM    RS    RW   RWB    ST  \n",
      "0  53.0  82.0  62.0  91.0  89.0  92.0  91.0  66.0  92.0  \n",
      "1  45.0  84.0  59.0  92.0  90.0  88.0  91.0  62.0  88.0  \n",
      "2  46.0  79.0  59.0  88.0  87.0  84.0  89.0  64.0  84.0  \n",
      "3  58.0  80.0  65.0  88.0  85.0  88.0  87.0  68.0  88.0  \n",
      "4   0.0   0.0   0.0   0.0   0.0   0.0   0.0   0.0   0.0  \n",
      "\n",
      "[5 rows x 75 columns]\n"
     ]
    }
   ],
   "source": [
    "import pandas as pd\n",
    "import numpy as np\n",
    "\n",
    "# Read CSV data into a pandas DataFrame\n",
    "df = pd.read_csv('complete_dataset.csv', low_memory=False)\n",
    "\n",
    "# If you want to replace all the blank entries with NaN\n",
    "df = df.replace(r'^\\s*$', np.nan, regex=True)\n",
    "df = df.replace(np.nan, 0, regex=True)\n",
    "\n",
    "df = df.rename(columns={\"Unnamed: 0\": \"id\"})\n",
    "\n",
    "# Print the unique columns\n",
    "print(df.head())"
   ]
  },
  {
   "cell_type": "code",
   "execution_count": 2,
   "id": "f50d0864-0abf-4991-bd60-b64e40a3b6c3",
   "metadata": {},
   "outputs": [
    {
     "name": "stdout",
     "output_type": "stream",
     "text": [
      "   id               Name  Age Nationality  Overall  Potential  \\\n",
      "0   0  Cristiano Ronaldo   32    Portugal       94         94   \n",
      "1   1           L. Messi   30   Argentina       93         93   \n",
      "2   2             Neymar   25      Brazil       92         94   \n",
      "3   3          L. Suárez   30     Uruguay       92         92   \n",
      "4   4           M. Neuer   31     Germany       92         92   \n",
      "\n",
      "                  Club   Value   Wage  Special  ...    RB   RCB   RCM   RDM  \\\n",
      "0       Real Madrid CF  €95.5M  €565K     2228  ...  61.0  53.0  82.0  62.0   \n",
      "1         FC Barcelona   €105M  €565K     2154  ...  57.0  45.0  84.0  59.0   \n",
      "2  Paris Saint-Germain   €123M  €280K     2100  ...  59.0  46.0  79.0  59.0   \n",
      "3         FC Barcelona    €97M  €510K     2291  ...  64.0  58.0  80.0  65.0   \n",
      "4     FC Bayern Munich    €61M  €230K     1493  ...   0.0   0.0   0.0   0.0   \n",
      "\n",
      "     RF    RM    RS    RW   RWB    ST  \n",
      "0  91.0  89.0  92.0  91.0  66.0  92.0  \n",
      "1  92.0  90.0  88.0  91.0  62.0  88.0  \n",
      "2  88.0  87.0  84.0  89.0  64.0  84.0  \n",
      "3  88.0  85.0  88.0  87.0  68.0  88.0  \n",
      "4   0.0   0.0   0.0   0.0   0.0   0.0  \n",
      "\n",
      "[5 rows x 72 columns]\n"
     ]
    }
   ],
   "source": [
    "df = df.drop(columns=['Photo', 'Flag', 'Club Logo'])\n",
    "print(df.head())"
   ]
  },
  {
   "cell_type": "code",
   "execution_count": 3,
   "id": "5db758a7-d55a-49d4-834d-f83f8aaebf4a",
   "metadata": {},
   "outputs": [
    {
     "data": {
      "image/png": "[encoded data removed]",
      "text/plain": [
       "<Figure size 576x432 with 1 Axes>"
      ]
     },
     "metadata": {
      "needs_background": "light"
     },
     "output_type": "display_data"
    },
    {
     "data": {
      "image/png": "[encoded data removed]",
      "text/plain": [
       "<Figure size 576x432 with 1 Axes>"
      ]
     },
     "metadata": {
      "needs_background": "light"
     },
     "output_type": "display_data"
    }
   ],
   "source": [
    "import matplotlib.pyplot as plt\n",
    "import seaborn as sns\n",
    "\n",
    "# Histogram This code plots the histogram graph based on the average steps taken\n",
    "plt.figure(figsize=(8, 6))\n",
    "plt.hist(df['Overall'].dropna(), bins=30, edgecolor='black')\n",
    "plt.title('Distribution of Overall per Player')\n",
    "plt.xlabel('Overall')\n",
    "plt.ylabel('Frequency')\n",
    "plt.show()\n",
    "\n",
    "# Boxplot This code plots the boxplot graph based on the data\n",
    "plt.figure(figsize=(8, 6))\n",
    "sns.boxplot(x=df['Overall'].dropna())\n",
    "plt.title('Box Plot of Overall per Player')\n",
    "plt.xlabel('Overall')\n",
    "plt.show()"
   ]
  },
  {
   "cell_type": "code",
   "execution_count": 4,
   "id": "c9920cd3-1a97-41b8-baa2-e519571c54d7",
   "metadata": {},
   "outputs": [
    {
     "name": "stdout",
     "output_type": "stream",
     "text": [
      "count    17981.000000\n",
      "mean        66.247984\n",
      "std          6.987965\n",
      "min         46.000000\n",
      "25%         62.000000\n",
      "50%         66.000000\n",
      "75%         71.000000\n",
      "max         94.000000\n",
      "Name: Overall, dtype: float64\n"
     ]
    }
   ],
   "source": [
    "summary_stats = df['Overall'].describe()\n",
    "print(summary_stats)"
   ]
  },
  {
   "cell_type": "code",
   "execution_count": 5,
   "id": "0621be9c-0a16-433a-a47e-8b53760f1d1d",
   "metadata": {},
   "outputs": [
    {
     "name": "stdout",
     "output_type": "stream",
     "text": [
      "Mean:  66.24798398309326\n",
      "Median:  66.0\n",
      "Standard Deviation:  6.987965339747166\n"
     ]
    }
   ],
   "source": [
    "# Mean\n",
    "mean = df['Overall'].mean()\n",
    "print('Mean: ', mean)\n",
    "\n",
    "# Median\n",
    "median = df['Overall'].median()\n",
    "print('Median: ', median)\n",
    "\n",
    "# Standard Deviation\n",
    "std_dev = df['Overall'].std()\n",
    "print('Standard Deviation: ', std_dev)"
   ]
  },
  {
   "cell_type": "code",
   "execution_count": 6,
   "id": "65a709f6-609e-4b65-a864-0b2ab42336b9",
   "metadata": {},
   "outputs": [],
   "source": [
    "# import matplotlib.pyplot as plt\n",
    "# import seaborn as sns\n",
    "\n",
    "# Plot the relation between mean steps, gender, and education still getting error\n",
    "# plt.figure(figsize=(10, 6))\n",
    "# sns.barplot(data=df, x='Preferred Positions', y='Overall', hue='Value')\n",
    "# plt.xlabel('Position')\n",
    "# plt.ylabel('Overall')\n",
    "# plt.title('Relation of Overall per Player with Preferred Positions and Value')\n",
    "# plt.legend(title='Value')\n",
    "# plt.show()"
   ]
  },
  {
   "cell_type": "code",
   "execution_count": 7,
   "id": "de031dcc-8fff-4ce8-bff2-a1bcb58c8d12",
   "metadata": {},
   "outputs": [],
   "source": [
    "# Random Forest is a versatile machine learning method capable of performing both regression and classification tasks. It is also used for dimensionality reduction, treats missing values, outlier values, and other essential steps of data exploration, and does a fairly good job."
   ]
  },
  {
   "cell_type": "code",
   "execution_count": 8,
   "id": "e82328e6",
   "metadata": {},
   "outputs": [],
   "source": [
    "# Random Forest works by creating multiple decision trees (as specified by the user) and merges them together. The idea behind this is that the group (or \"forest\") of decision trees will be able to make more accurate predictions and decisions than a single decision tree. Each decision tree in the forest considers a random subset of observations and a random subset of features to split on at each node, introducing randomness into the model creation process."
   ]
  },
  {
   "cell_type": "code",
   "execution_count": 9,
   "id": "6ce674d7",
   "metadata": {
    "tags": []
   },
   "outputs": [
    {
     "name": "stdout",
     "output_type": "stream",
     "text": [
      "   id               Name  Age Nationality  Overall  Potential  \\\n",
      "0   0  Cristiano Ronaldo   32    Portugal       94         94   \n",
      "1   1           L. Messi   30   Argentina       93         93   \n",
      "2   2             Neymar   25      Brazil       92         94   \n",
      "3   3          L. Suárez   30     Uruguay       92         92   \n",
      "4   4           M. Neuer   31     Germany       92         92   \n",
      "\n",
      "                  Club        Value      Wage  Special  ...  RB RCB RCM RDM  \\\n",
      "0       Real Madrid CF   95500000.0  565000.0     2228  ...  61  53  82  62   \n",
      "1         FC Barcelona  105000000.0  565000.0     2154  ...  57  45  84  59   \n",
      "2  Paris Saint-Germain  123000000.0  280000.0     2100  ...  59  46  79  59   \n",
      "3         FC Barcelona   97000000.0  510000.0     2291  ...  64  58  80  65   \n",
      "4     FC Bayern Munich   61000000.0  230000.0     1493  ...   0   0   0   0   \n",
      "\n",
      "   RF  RM  RS  RW RWB  ST  \n",
      "0  91  89  92  91  66  92  \n",
      "1  92  90  88  91  62  88  \n",
      "2  88  87  84  89  64  84  \n",
      "3  88  85  88  87  68  88  \n",
      "4   0   0   0   0   0   0  \n",
      "\n",
      "[5 rows x 72 columns]\n"
     ]
    }
   ],
   "source": [
    "from sklearn.model_selection import train_test_split\n",
    "from sklearn.ensemble import RandomForestClassifier\n",
    "from sklearn.metrics import accuracy_score\n",
    "\n",
    "df = df.astype(int, errors='ignore')\n",
    "\n",
    "# data cleaning because it cannot calculate the model with strings\n",
    "def value_to_int(df_value):\n",
    "    if isinstance(df_value, int):\n",
    "        return df_value\n",
    "\n",
    "    if df_value == '' or df_value == ' ' or df_value == '€0':\n",
    "        return 0\n",
    "\n",
    "    try:\n",
    "        value = float(df_value[1:-1])\n",
    "        suffix = df_value[-1:]\n",
    "        \n",
    "        if suffix == 'M':\n",
    "            value = value * 1000000\n",
    "        elif suffix == 'K':\n",
    "            value = value * 1000\n",
    "\n",
    "        return value\n",
    "    except (TypeError, ValueError):\n",
    "        return df_value\n",
    "\n",
    "df['Value'] = df['Value'].apply(value_to_int)\n",
    "df['Wage'] = df['Wage'].apply(value_to_int)\n",
    "\n",
    "x = df.drop('Name', axis=1)\n",
    "print(df.head())"
   ]
  },
  {
   "cell_type": "code",
   "execution_count": 10,
   "id": "105f9fd3",
   "metadata": {},
   "outputs": [
    {
     "name": "stdout",
     "output_type": "stream",
     "text": [
      "   id               Name  Age Nationality  Overall  Potential  \\\n",
      "0   0  Cristiano Ronaldo   32    Portugal       94         94   \n",
      "1   1           L. Messi   30   Argentina       93         93   \n",
      "2   2             Neymar   25      Brazil       92         94   \n",
      "3   3          L. Suárez   30     Uruguay       92         92   \n",
      "4   4           M. Neuer   31     Germany       92         92   \n",
      "\n",
      "                  Club        Value      Wage  Special  ...  RB  RCB  RCM  \\\n",
      "0       Real Madrid CF   95500000.0  565000.0     2228  ...  61   53   82   \n",
      "1         FC Barcelona  105000000.0  565000.0     2154  ...  57   45   84   \n",
      "2  Paris Saint-Germain  123000000.0  280000.0     2100  ...  59   46   79   \n",
      "3         FC Barcelona   97000000.0  510000.0     2291  ...  64   58   80   \n",
      "4     FC Bayern Munich   61000000.0  230000.0     1493  ...   0    0    0   \n",
      "\n",
      "   RDM  RF  RM  RS  RW  RWB  ST  \n",
      "0   62  91  89  92  91   66  92  \n",
      "1   59  92  90  88  91   62  88  \n",
      "2   59  88  87  84  89   64  84  \n",
      "3   65  88  85  88  87   68  88  \n",
      "4    0   0   0   0   0    0   0  \n",
      "\n",
      "[5 rows x 72 columns]\n"
     ]
    }
   ],
   "source": [
    "def value_to_sum(df_value):\n",
    "    if isinstance(df_value, int):\n",
    "        return df_value\n",
    "\n",
    "    if isinstance(df_value, str):\n",
    "        if '+' in df_value:\n",
    "            values = df_value.split('+')\n",
    "            return sum(int(v) for v in values if v.isdigit())\n",
    "        elif '-' in df_value:\n",
    "            values = df_value.split('-')\n",
    "            return int(values[0]) - int(values[1]) if values[0].isdigit() and values[1].isdigit() else df_value\n",
    "        elif df_value.isdigit():\n",
    "            return int(df_value)\n",
    "        else:\n",
    "            return df_value\n",
    "    else:\n",
    "        return df_value\n",
    "\n",
    "# To clean the data we have to sum up the cells that have values like 81+2\n",
    "for col in df.columns:\n",
    "    df[col] = df[col].apply(value_to_sum)    \n",
    "    \n",
    "print(df.head())"
   ]
  },
  {
   "cell_type": "code",
   "execution_count": 11,
   "id": "0977d931-135f-4fe6-acdd-b42bbf64ed71",
   "metadata": {},
   "outputs": [
    {
     "name": "stdout",
     "output_type": "stream",
     "text": [
      "   id  Age  Overall  Potential        Value      Wage  Special  Acceleration  \\\n",
      "0   0   32       94         94   95500000.0  565000.0     2228            89   \n",
      "1   1   30       93         93  105000000.0  565000.0     2154            92   \n",
      "2   2   25       92         94  123000000.0  280000.0     2100            94   \n",
      "3   3   30       92         92   97000000.0  510000.0     2291            88   \n",
      "4   4   31       92         92   61000000.0  230000.0     1493            58   \n",
      "\n",
      "   Aggression  Agility  ...  Preferred Positions_ST RM CF   \\\n",
      "0          63       89  ...                              0   \n",
      "1          48       90  ...                              0   \n",
      "2          56       96  ...                              0   \n",
      "3          78       86  ...                              0   \n",
      "4          29       52  ...                              0   \n",
      "\n",
      "   Preferred Positions_ST RM LM   Preferred Positions_ST RM LM CAM   \\\n",
      "0                              0                                  0   \n",
      "1                              0                                  0   \n",
      "2                              0                                  0   \n",
      "3                              0                                  0   \n",
      "4                              0                                  0   \n",
      "\n",
      "   Preferred Positions_ST RM LW   Preferred Positions_ST RM RB   \\\n",
      "0                              0                              0   \n",
      "1                              0                              0   \n",
      "2                              0                              0   \n",
      "3                              0                              0   \n",
      "4                              0                              0   \n",
      "\n",
      "   Preferred Positions_ST RM RW   Preferred Positions_ST RW   \\\n",
      "0                              0                           0   \n",
      "1                              0                           0   \n",
      "2                              0                           0   \n",
      "3                              0                           0   \n",
      "4                              0                           0   \n",
      "\n",
      "   Preferred Positions_ST RW CAM   Preferred Positions_ST RW LW   \\\n",
      "0                               0                              0   \n",
      "1                               0                              0   \n",
      "2                               0                              0   \n",
      "3                               0                              0   \n",
      "4                               0                              0   \n",
      "\n",
      "   Preferred Positions_ST RW RM   \n",
      "0                              0  \n",
      "1                              0  \n",
      "2                              0  \n",
      "3                              0  \n",
      "4                              0  \n",
      "\n",
      "[5 rows x 1680 columns]\n"
     ]
    }
   ],
   "source": [
    "dummy_nationality = pd.get_dummies(df['Nationality'], prefix='Nationality', drop_first=True)\n",
    "dummy_club = pd.get_dummies(df['Club'], prefix='Club', drop_first=True)\n",
    "dummy_positions = pd.get_dummies(df['Preferred Positions'], prefix='Preferred Positions', drop_first=True)\n",
    "\n",
    "# Concatenate the dummy variables with the original dataframe\n",
    "df = pd.concat([df, dummy_nationality, dummy_club, dummy_positions], axis=1)\n",
    "\n",
    "# Drop the original categorical variables from the dataframe\n",
    "df.drop(['Nationality', 'Club', 'Name', 'Preferred Positions'], axis=1, inplace=True)\n",
    "\n",
    "print(df.head())"
   ]
  },
  {
   "cell_type": "code",
   "execution_count": 12,
   "id": "857bf23c-222c-4b5a-bfc9-60e50914389e",
   "metadata": {},
   "outputs": [
    {
     "name": "stdout",
     "output_type": "stream",
     "text": [
      "0    high\n",
      "1    high\n",
      "2    high\n",
      "3    high\n",
      "4    high\n",
      "Name: ValueCategory, dtype: object\n"
     ]
    }
   ],
   "source": [
    "import numpy as np\n",
    "\n",
    "# In order to convert your model to a classification problem, you'll first need to transform your target variable into a categorical one. For instance, you could split the Value variable into categories such as \"low\", \"medium\", and \"high\". Note that these categories need to be defined according to some logic based on your specific context. In this example, we will define them arbitrarily, and you can adjust this to better suit your needs.\n",
    "\n",
    "# Let's say we define these categories based on the percentile distribution of Value:\n",
    "\n",
    "# \"Low\" if Value is below the 33rd percentile,\n",
    "# \"Medium\" if Value is between the 33rd and 66th percentile,\n",
    "# \"High\" if Value is above the 66th percentile.\n",
    "\n",
    "# Define percentile thresholds\n",
    "low_threshold = np.percentile(df['Value'], 33)\n",
    "high_threshold = np.percentile(df['Value'], 66)\n",
    "\n",
    "# Define a function to convert a continuous value to a category\n",
    "def value_to_category(value):\n",
    "    if value < low_threshold:\n",
    "        return 'low'\n",
    "    elif value < high_threshold:\n",
    "        return 'medium'\n",
    "    else:\n",
    "        return 'high'\n",
    "\n",
    "# Apply the function to the 'Value' column to create a new 'ValueCategory' column\n",
    "df['ValueCategory'] = df['Value'].apply(value_to_category)\n",
    "\n",
    "print(df.head()['ValueCategory'])"
   ]
  },
  {
   "cell_type": "code",
   "execution_count": 13,
   "id": "850fc599-a5f1-4763-809e-93afee708ee7",
   "metadata": {},
   "outputs": [],
   "source": [
    "from sklearn.ensemble import RandomForestClassifier\n",
    "from sklearn.metrics import accuracy_score, precision_score, recall_score\n",
    "from sklearn.model_selection import train_test_split\n",
    "\n",
    "x = df.drop('ValueCategory', axis=1)\n",
    "y = df['ValueCategory']\n",
    "x_train, x_test, y_train, y_test = train_test_split(x, y, test_size=0.2, random_state=42)\n",
    "\n",
    "# Initialize the model\n",
    "model = RandomForestClassifier(n_estimators=100, random_state=42)\n",
    "\n",
    "# Fit the model\n",
    "model.fit(x_train, y_train)\n",
    "\n",
    "# Predictions\n",
    "predictions = model.predict(x_test)"
   ]
  },
  {
   "cell_type": "code",
   "execution_count": 14,
   "id": "fbe876fa-e87b-4af0-a93a-b26756cbc1ea",
   "metadata": {},
   "outputs": [
    {
     "name": "stdout",
     "output_type": "stream",
     "text": [
      "Accuracy: 0.97\n",
      "Precision: 0.97\n",
      "Recall: 0.97\n"
     ]
    }
   ],
   "source": [
    "# Calculate metrics\n",
    "accuracy = accuracy_score(y_test, predictions)\n",
    "precision = precision_score(y_test, predictions, average='weighted')  # change to 'weighted' because we have multiple classes now\n",
    "recall = recall_score(y_test, predictions, average='weighted')  # change to 'weighted' because we have multiple classes now\n",
    "\n",
    "print(f'Accuracy: {accuracy:.2f}')\n",
    "print(f'Precision: {precision:.2f}')\n",
    "print(f'Recall: {recall:.2f}')"
   ]
  },
  {
   "cell_type": "code",
   "execution_count": null,
   "id": "d1fd3173-8a4e-4b78-9bdd-8a603d927ddf",
   "metadata": {},
   "outputs": [],
   "source": []
  }
 ],
 "metadata": {
  "kernelspec": {
   "display_name": "Python 3 (ipykernel)",
   "language": "python",
   "name": "python3"
  },
  "language_info": {
   "codemirror_mode": {
    "name": "ipython",
    "version": 3
   },
   "file_extension": ".py",
   "mimetype": "text/x-python",
   "name": "python",
   "nbconvert_exporter": "python",
   "pygments_lexer": "ipython3",
   "version": "3.9.12"
  }
 },
 "nbformat": 4,
 "nbformat_minor": 5
}
